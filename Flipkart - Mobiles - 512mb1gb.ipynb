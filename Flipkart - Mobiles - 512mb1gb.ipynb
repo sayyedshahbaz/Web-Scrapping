{
 "cells": [
  {
   "cell_type": "code",
   "execution_count": 1,
   "metadata": {},
   "outputs": [],
   "source": [
    "import requests\n",
    "from bs4 import BeautifulSoup"
   ]
  },
  {
   "cell_type": "code",
   "execution_count": 4,
   "metadata": {},
   "outputs": [
    {
     "name": "stdout",
     "output_type": "stream",
     "text": [
      "<Response [200]>\n"
     ]
    }
   ],
   "source": [
    "response = requests.get(\"https://www.flipkart.com/search?sid=tyy%2C4io&otracker=CLP_Filters&p%5B%5D=facets.ram%255B%255D%3D512%2BMB%2B-%2B1%2BGB\")\n",
    "print(response)"
   ]
  },
  {
   "cell_type": "code",
   "execution_count": 5,
   "metadata": {},
   "outputs": [],
   "source": [
    "soup = BeautifulSoup(response.content, \"html.parser\")"
   ]
  },
  {
   "cell_type": "code",
   "execution_count": 16,
   "metadata": {},
   "outputs": [
    {
     "name": "stdout",
     "output_type": "stream",
     "text": [
      "TITLE: Lava GEM\n",
      "PRICE: ₹1,399\n",
      "RATING: 4.1\n",
      "\n",
      "TITLE: Nokia 8110 4G\n",
      "PRICE: ₹3,215\n",
      "RATING: 3.7\n",
      "\n",
      "TITLE: Kechaoda K-55 Plus\n",
      "PRICE: ₹1,199\n",
      "RATING: 4\n",
      "\n",
      "TITLE: Heemax H3\n",
      "PRICE: ₹735\n",
      "RATING: 3.2\n",
      "\n",
      "TITLE: Samsung Guru Plus B110\n",
      "PRICE: ₹1,662\n",
      "RATING: 4.1\n",
      "\n",
      "TITLE: Lava 34 SUPER\n",
      "PRICE: ₹1,499\n",
      "RATING: 3.9\n",
      "\n",
      "TITLE: Kechaoda K57\n",
      "PRICE: ₹999\n",
      "RATING: None\n",
      "\n",
      "TITLE: XOLO Q600 (White, 4 GB)\n",
      "PRICE: ₹6,935\n",
      "RATING: 4.1\n",
      "\n",
      "TITLE: Micromax Bharat 2 Ultra (Black, 4 GB)\n",
      "PRICE: ₹3,028\n",
      "RATING: 3.4\n",
      "\n",
      "TITLE: Ziox Starz Rocker\n",
      "PRICE: ₹909\n",
      "RATING: 3.9\n",
      "\n",
      "TITLE: JIVI JFP R21\n",
      "PRICE: ₹790\n",
      "RATING: 3.6\n",
      "\n",
      "TITLE: Nokia 8110 (Black, 4 GB)\n",
      "PRICE: ₹3,290\n",
      "RATING: 3.7\n",
      "\n",
      "TITLE: Heemax H3\n",
      "PRICE: ₹699\n",
      "RATING: 3.2\n",
      "\n",
      "TITLE: Heemax H1\n",
      "PRICE: ₹749\n",
      "RATING: 3.4\n",
      "\n",
      "TITLE: Samsung Metro 313\n",
      "PRICE: ₹2,120\n",
      "RATING: 4.1\n",
      "\n",
      "TITLE: Trio T6\n",
      "PRICE: ₹680\n",
      "RATING: 3.2\n",
      "\n",
      "TITLE: T-Max Jaguar (White, 4 GB)\n",
      "PRICE: ₹3,499\n",
      "RATING: 3.7\n",
      "\n",
      "TITLE: T-Max Innocent i452\n",
      "PRICE: ₹2,399\n",
      "RATING: 3.6\n",
      "\n",
      "TITLE: Rio London\n",
      "PRICE: ₹2,699\n",
      "RATING: 3.5\n",
      "\n",
      "TITLE: XOLO Q600 Club (Black, 4 GB)\n",
      "PRICE: ₹3,999\n",
      "RATING: 3.8\n",
      "\n",
      "TITLE: T-Max Jaguar (Black, 4 GB)\n",
      "PRICE: ₹3,595\n",
      "RATING: 3.7\n",
      "\n",
      "TITLE: Rio London (Black, 4 GB)\n",
      "PRICE: ₹2,998\n",
      "RATING: 3.5\n",
      "\n",
      "TITLE: Rio London (Black, 512 MB)\n",
      "PRICE: ₹2,948\n",
      "RATING: 3.5\n",
      "\n",
      "TITLE: T-Max M1+ (White, 4 GB)\n",
      "PRICE: ₹2,599\n",
      "RATING: 3.6\n",
      "\n"
     ]
    }
   ],
   "source": [
    "cards = soup.find_all(\"a\", attrs={\"class\":\"_31qSD5\"})\n",
    "\n",
    "for card in cards:\n",
    "    title = card.find(\"div\", attrs={\"class\":\"_3wU53n\"}).text\n",
    "\n",
    "    price = card.find(\"div\", attrs={\"class\":\"_1vC4OE _2rQ-NK\"}).text\n",
    "\n",
    "    try:\n",
    "        rating = card.find(\"span\", attrs={\"class\":\"_2_KrJI\"}).text\n",
    "    except Exception as e:\n",
    "        rating = None\n",
    "\n",
    "    data = \"TITLE: {}\\nPRICE: {}\\nRATING: {}\\n\".format(title,price,rating)\n",
    "    print(data)"
   ]
  }
 ],
 "metadata": {
  "kernelspec": {
   "display_name": "Python 3",
   "language": "python",
   "name": "python3"
  },
  "language_info": {
   "codemirror_mode": {
    "name": "ipython",
    "version": 3
   },
   "file_extension": ".py",
   "mimetype": "text/x-python",
   "name": "python",
   "nbconvert_exporter": "python",
   "pygments_lexer": "ipython3",
   "version": "3.7.4"
  }
 },
 "nbformat": 4,
 "nbformat_minor": 2
}
